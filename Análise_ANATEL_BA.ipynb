{
  "nbformat": 4,
  "nbformat_minor": 0,
  "metadata": {
    "colab": {
      "name": "Análise ANATEL-BA.ipynb",
      "provenance": [],
      "collapsed_sections": [],
      "authorship_tag": "ABX9TyO6Swvh3M9pWXNdqRGj2H3y",
      "include_colab_link": true
    },
    "kernelspec": {
      "name": "python3",
      "display_name": "Python 3"
    }
  },
  "cells": [
    {
      "cell_type": "markdown",
      "metadata": {
        "id": "view-in-github",
        "colab_type": "text"
      },
      "source": [
        "<a href=\"https://colab.research.google.com/github/felipe-sanches/anatel-BA-2019/blob/master/An%C3%A1lise_ANATEL_BA.ipynb\" target=\"_parent\"><img src=\"https://colab.research.google.com/assets/colab-badge.svg\" alt=\"Open In Colab\"/></a>"
      ]
    },
    {
      "cell_type": "markdown",
      "metadata": {
        "id": "k6v3YrdK8WCG",
        "colab_type": "text"
      },
      "source": [
        "<center><img alt=\"Creta\" width=\"100%\" src=\"https://github.com/felipe-sanches/anatel-BA-2019/blob/master/Nepa-for-Telecom-768x422.jpeg?raw=true\"></center>\n",
        "\n",
        "\n",
        "\n",
        "# Análise de Dados das reclamações ANATEL na Bahia\n",
        "\n",
        "A Agência Nacional de Telecomunicações (Anatel) é a primeira agência reguladora a ser instalada no Brasil , criada pela Lei 9.472, de 16 de julho de 1997.\n",
        "\n",
        "De acordo com o planejamento estratégico da Anatel para o período 2015 a 2024, sua missão é \"regular o setor de telecomunicações para contribuir com o desenvolvimento do Brasil\".\n",
        "\n",
        "A Agência é uma autarquia administrativamente independente, financeiramente autônoma, não subordinada hierarquicamente a nenhum órgão de governo. Última instância administrativa, as decisões da Anatel só podem ser contestadas judicialmente.\n",
        "\n",
        "## Dados abertos\n",
        "\n",
        "O Plano de Dados Abertos da ANATEL, é o documento orientador para as ações de implementação e promoção de abertura de dados. o Plano tem sintonia com o Planejamento Estratégico da Agência, que estabelece a promoção da disseminação de dados como um dos seus objetivos.\n",
        "\n",
        "Dados abertos são dados acessíveis ao público, representados em meio digital, estruturados em formato aberto (não proprietário), processáveis por máquina, referenciados na internet e disponibilizados sob licença aberta que permita sua livre utilização, consumo ou cruzamento, limitando-se a creditar a autoria ou a fonte.\n",
        "\n",
        "Nesse sentido, a Anatel já tem promovido diversas ações voltadas para a disponibilização de dados setoriais, tanto para outros órgãos públicos ou empresas como para os usuários em geral. Contudo, esse objetivo de promover a disseminação de dados e informações setoriais visa elevar os esforços a outro nível, de modo a permitir a verdadeira integração informacional entre instituições cuja atividade está intimamente relacionada ao setor e dar a devida publicidade aos resultados regulatórios da Agência, angariando insumos de retroalimentação para a melhoria dos seus processos.\n",
        "\n",
        "---\n",
        "Neste notebook serão analisados dados referentes aos registros de reclamações, denúncias, pedidos de informação e sugestões em relação às operadoras e à Anatel.\n",
        "\n",
        "\n",
        "\n",
        "\n",
        "\n",
        "\n",
        "\n"
      ]
    },
    {
      "cell_type": "markdown",
      "metadata": {
        "id": "1z50AUdR87MN",
        "colab_type": "text"
      },
      "source": [
        "## Obtenção dos dados\n",
        "\n",
        "O Dataset utilizado nesta análise está disponível no Portal Brasileiro de Dados Abertos neste [endereço](http://www.dados.gov.br/dataset/solicitacoesregistradasnaanatel).\n",
        "\n",
        "Para esta análise exploratória será baixado apenas o seguinte arquivo:\n",
        "\n",
        "* `Solicitações Registradas na Anatel (2019-BA).csv`\n"
      ]
    },
    {
      "cell_type": "code",
      "metadata": {
        "id": "0envDT3G0x7x",
        "colab_type": "code",
        "colab": {}
      },
      "source": [
        "#importando pacotes necessários\n",
        "import pandas as pd\n",
        "import matplotlib.pyplot as plt\n"
      ],
      "execution_count": 1,
      "outputs": []
    },
    {
      "cell_type": "code",
      "metadata": {
        "id": "eKnEVrpK1yR5",
        "colab_type": "code",
        "colab": {}
      },
      "source": [
        "#importando o arquivo para um dataframe\n",
        "df = pd.read_csv('https://raw.githubusercontent.com/felipe-sanches/anatel-BA-2019/master/Solicita%C3%A7%C3%B5es%20Registradas%20na%20Anatel%20(2019-BA).csv', sep = ';', encoding='latin-1')\n"
      ],
      "execution_count": 2,
      "outputs": []
    },
    {
      "cell_type": "markdown",
      "metadata": {
        "id": "LgFv22Z7QXIz",
        "colab_type": "text"
      },
      "source": [
        "### Análise dos dados\n",
        "\n",
        "Nesta etapa o objetivo é compreender a estrutura do Dataset, e avaliar a sua situação atual.\n",
        "\n",
        "**Dicionário de termos:**\n",
        "\n",
        "* `Ano:` ano de registro da solicitação.\n",
        "\n",
        "* `Canal de Entrada:` os canais pelos quais a Anatel pode receber solicitações (Fale Conosco, 1331, Aplicativo, etc.), ou seja, o canal de atendimento usado pelo consumidor para registrar a solicitação.\n",
        "\n",
        "* `Condição:` Informa se a solicitação já foi reaberta. Solicitações que nunca foram reabertas permanecem como “Nova”, do contrário constam como “Reaberta”.\n",
        "\n",
        "* `Data da Extração:` data em que os dados foram extraídos da base do sistema Focus da Anatel para consolidação.\n",
        "\n",
        "* `Grupo Econômico:` grupo econômico segundo a marca a que se refere a solicitação. Assim, por exemplo, apesar de Claro e Net pertencerem ao mesmo grupo econômico, as marcas são distintas e, portanto, aparecem separadas.\n",
        "\n",
        "* `Mês:` mês de registro da solicitação.\n",
        "\n",
        "* `Modalidade:` as modalidades pretendem indicar, em um nível mais amplo, o tema ao qual estão atreladas as solicitações registradas e são subdividas em motivos.\n",
        "\n",
        "* `Motivos:` os motivos expressam a natureza das demandas com mais detalhes.\n",
        "\n",
        "* `ND:` Não declarada.\n",
        "\n",
        "* `Prestadora:` empresa que possui autorização ou concessão da Anatel para a exploração de serviços de telecomunicações.\n",
        "\n",
        "* `Quantidade de Solicitações:` quantidade de solicitações registradas na Anatel.\n",
        "\n",
        "* `SCM:` Serviço de Comunicação Multimídia (banda larga fixa).\n",
        "\n",
        "* `Serviço:` indica o serviço a que se refere a solicitação (Telefone Fixo, Banda Larga Fixa, TV por Assinatura e Celular Pré-Pago e Celular Pós-Pago).\n",
        "\n",
        "* `Solicitação Nova:` uma solicitação que, uma vez respondida, não foi reaberta pelo consumidor.\n",
        "\n",
        "* `Solicitação Reaberta:` o consumidor que não se sente satisfeito com a resposta dada a sua reclamação pode reabrir a solicitação para que a prestadora manifeste-se novamente.\n",
        "\n",
        "* `STFC:` Serviço Telefônico Fixo Comutado (telefonia fixa).\n",
        "\n",
        "* `UF:` Unidade da Federação – Estados, Territórios e Distrito Federal.\n"
      ]
    },
    {
      "cell_type": "code",
      "metadata": {
        "id": "n75kVyVaSH1c",
        "colab_type": "code",
        "colab": {
          "base_uri": "https://localhost:8080/",
          "height": 374
        },
        "outputId": "29659ebc-0cc2-400d-95d6-d0c50f09ad7e"
      },
      "source": [
        "# mostrando as 5 primeiras entradas\n",
        "df.head()"
      ],
      "execution_count": 3,
      "outputs": [
        {
          "output_type": "execute_result",
          "data": {
            "text/html": [
              "<div>\n",
              "<style scoped>\n",
              "    .dataframe tbody tr th:only-of-type {\n",
              "        vertical-align: middle;\n",
              "    }\n",
              "\n",
              "    .dataframe tbody tr th {\n",
              "        vertical-align: top;\n",
              "    }\n",
              "\n",
              "    .dataframe thead th {\n",
              "        text-align: right;\n",
              "    }\n",
              "</style>\n",
              "<table border=\"1\" class=\"dataframe\">\n",
              "  <thead>\n",
              "    <tr style=\"text-align: right;\">\n",
              "      <th></th>\n",
              "      <th>DataExtracao</th>\n",
              "      <th>Ano</th>\n",
              "      <th>Mes</th>\n",
              "      <th>CanalEntrada</th>\n",
              "      <th>Condicao</th>\n",
              "      <th>GrupoEconNorm</th>\n",
              "      <th>Tipo</th>\n",
              "      <th>Servico</th>\n",
              "      <th>Modalidade</th>\n",
              "      <th>Motivo</th>\n",
              "      <th>UF</th>\n",
              "      <th>QtdeSolic</th>\n",
              "    </tr>\n",
              "  </thead>\n",
              "  <tbody>\n",
              "    <tr>\n",
              "      <th>0</th>\n",
              "      <td>2019-10-08</td>\n",
              "      <td>2019</td>\n",
              "      <td>1</td>\n",
              "      <td>Aplicativo Móvel</td>\n",
              "      <td>Nova</td>\n",
              "      <td>CLARO</td>\n",
              "      <td>Reclamação</td>\n",
              "      <td>Banda Larga Fixa</td>\n",
              "      <td>Cobrança</td>\n",
              "      <td>Cobrança durante a suspensão ou bloqueio do se...</td>\n",
              "      <td>BA</td>\n",
              "      <td>1</td>\n",
              "    </tr>\n",
              "    <tr>\n",
              "      <th>1</th>\n",
              "      <td>2019-10-08</td>\n",
              "      <td>2019</td>\n",
              "      <td>1</td>\n",
              "      <td>Aplicativo Móvel</td>\n",
              "      <td>Nova</td>\n",
              "      <td>CLARO</td>\n",
              "      <td>Reclamação</td>\n",
              "      <td>Celular Pós-Pago</td>\n",
              "      <td>Atendimento</td>\n",
              "      <td>Consumidor não consegue registrar reclamação n...</td>\n",
              "      <td>BA</td>\n",
              "      <td>1</td>\n",
              "    </tr>\n",
              "    <tr>\n",
              "      <th>2</th>\n",
              "      <td>2019-10-08</td>\n",
              "      <td>2019</td>\n",
              "      <td>1</td>\n",
              "      <td>Aplicativo Móvel</td>\n",
              "      <td>Nova</td>\n",
              "      <td>CLARO</td>\n",
              "      <td>Reclamação</td>\n",
              "      <td>Celular Pós-Pago</td>\n",
              "      <td>Atendimento</td>\n",
              "      <td>Indisponibilidade do canal de atendimento</td>\n",
              "      <td>BA</td>\n",
              "      <td>2</td>\n",
              "    </tr>\n",
              "    <tr>\n",
              "      <th>3</th>\n",
              "      <td>2019-10-08</td>\n",
              "      <td>2019</td>\n",
              "      <td>1</td>\n",
              "      <td>Aplicativo Móvel</td>\n",
              "      <td>Nova</td>\n",
              "      <td>CLARO</td>\n",
              "      <td>Reclamação</td>\n",
              "      <td>Celular Pós-Pago</td>\n",
              "      <td>Atendimento</td>\n",
              "      <td>Não retorno de ligação interrompida ao falar c...</td>\n",
              "      <td>BA</td>\n",
              "      <td>1</td>\n",
              "    </tr>\n",
              "    <tr>\n",
              "      <th>4</th>\n",
              "      <td>2019-10-08</td>\n",
              "      <td>2019</td>\n",
              "      <td>1</td>\n",
              "      <td>Aplicativo Móvel</td>\n",
              "      <td>Nova</td>\n",
              "      <td>CLARO</td>\n",
              "      <td>Reclamação</td>\n",
              "      <td>Celular Pós-Pago</td>\n",
              "      <td>Bloqueio ou Suspensão e Desbloqueio</td>\n",
              "      <td>Bloqueio ou suspensão parcial indevido</td>\n",
              "      <td>BA</td>\n",
              "      <td>5</td>\n",
              "    </tr>\n",
              "  </tbody>\n",
              "</table>\n",
              "</div>"
            ],
            "text/plain": [
              "  DataExtracao   Ano  ...  UF QtdeSolic\n",
              "0   2019-10-08  2019  ...  BA         1\n",
              "1   2019-10-08  2019  ...  BA         1\n",
              "2   2019-10-08  2019  ...  BA         2\n",
              "3   2019-10-08  2019  ...  BA         1\n",
              "4   2019-10-08  2019  ...  BA         5\n",
              "\n",
              "[5 rows x 12 columns]"
            ]
          },
          "metadata": {
            "tags": []
          },
          "execution_count": 3
        }
      ]
    },
    {
      "cell_type": "markdown",
      "metadata": {
        "id": "QY6TUlj9Vydc",
        "colab_type": "text"
      },
      "source": [
        "### **Quantos atributos (variáveis) e quantas entradas o *Dataset* possui? Quais os tipos das variáveis?**\n",
        "\n",
        "Vamos prosseguir e identificar a quantidade de entradas que nosso conjunto de dados possui e ver os tipos de cada coluna."
      ]
    },
    {
      "cell_type": "code",
      "metadata": {
        "id": "QFLxPQ-B4so7",
        "colab_type": "code",
        "colab": {
          "base_uri": "https://localhost:8080/",
          "height": 289
        },
        "outputId": "a7b7a92b-082e-4692-d271-6785be27e493"
      },
      "source": [
        "# Identificando o volume de dados do DataFrame\n",
        "print(\"Entradas:\\t {}\".format(df.shape[0]))\n",
        "print(\"Variáveis:\\t {}\".format(df.shape[1]),\"\\n\")\n",
        "\n",
        "#Tipos de dados contidos no dataset\n",
        "display(df.dtypes)"
      ],
      "execution_count": 4,
      "outputs": [
        {
          "output_type": "stream",
          "text": [
            "Entradas:\t 35421\n",
            "Variáveis:\t 12 \n",
            "\n"
          ],
          "name": "stdout"
        },
        {
          "output_type": "display_data",
          "data": {
            "text/plain": [
              "DataExtracao     object\n",
              "Ano               int64\n",
              "Mes               int64\n",
              "CanalEntrada     object\n",
              "Condicao         object\n",
              "GrupoEconNorm    object\n",
              "Tipo             object\n",
              "Servico          object\n",
              "Modalidade       object\n",
              "Motivo           object\n",
              "UF               object\n",
              "QtdeSolic         int64\n",
              "dtype: object"
            ]
          },
          "metadata": {
            "tags": []
          }
        }
      ]
    },
    {
      "cell_type": "markdown",
      "metadata": {
        "id": "_AoabcznbdBY",
        "colab_type": "text"
      },
      "source": [
        "### **Qual a porcentagem de valores ausentes?**\n",
        "\n",
        "A qualidade de um *dataset* está diretamente relacionada à quantidade de valores ausentes. É importante entender logo no início se esses valores nulos são significativos comparados ao total de entradas.\n",
        "\n"
      ]
    },
    {
      "cell_type": "code",
      "metadata": {
        "id": "7-YEpxzd9dqV",
        "colab_type": "code",
        "colab": {
          "base_uri": "https://localhost:8080/",
          "height": 306
        },
        "outputId": "dab69c59-419b-41fc-f27b-0d46e8d20da5"
      },
      "source": [
        "#Verificando quantidade de valores ausentes em cada variável do dataset\n",
        "print('Valores ausentes no Dataset:\\n',df.isnull().sum(), '\\n\\n\\n')\n"
      ],
      "execution_count": 5,
      "outputs": [
        {
          "output_type": "stream",
          "text": [
            "Valores ausentes no Dataset:\n",
            " DataExtracao     0\n",
            "Ano              0\n",
            "Mes              0\n",
            "CanalEntrada     0\n",
            "Condicao         0\n",
            "GrupoEconNorm    2\n",
            "Tipo             0\n",
            "Servico          0\n",
            "Modalidade       0\n",
            "Motivo           0\n",
            "UF               0\n",
            "QtdeSolic        0\n",
            "dtype: int64 \n",
            "\n",
            "\n",
            "\n"
          ],
          "name": "stdout"
        }
      ]
    },
    {
      "cell_type": "code",
      "metadata": {
        "id": "skVS2ZYobrnH",
        "colab_type": "code",
        "colab": {
          "base_uri": "https://localhost:8080/",
          "height": 85
        },
        "outputId": "47ea7e76-79ef-436e-e3f5-ae6bd0600391"
      },
      "source": [
        "#verificando o tamanho da única variável que tem valores ausentes\n",
        "print('Tamanho total da variável \"GrupoEconNorm\": \\n{}'.format(df[\"GrupoEconNorm\"].size))\n",
        "\n",
        "#Verificando percentual de valores ausentes no dataset\n",
        "print('Porcentagem de valores ausentes em GrupoEconNorm: \\n{:.4f}%'.format((df.GrupoEconNorm.isnull().sum()/df[\"GrupoEconNorm\"].size)*100))"
      ],
      "execution_count": 6,
      "outputs": [
        {
          "output_type": "stream",
          "text": [
            "Tamanho total da variável \"GrupoEconNorm\": \n",
            "35421\n",
            "Porcentagem de valores ausentes em GrupoEconNorm: \n",
            "0.0056%\n"
          ],
          "name": "stdout"
        }
      ]
    },
    {
      "cell_type": "markdown",
      "metadata": {
        "id": "i2NqXVAgPpep",
        "colab_type": "text"
      },
      "source": [
        "Percebe-se com isto que existem apenas dois valores ausentes no dataset, e que eles representam uma porcentagem ínfima quando relacionada à quantidade total de dados.\n",
        "\n",
        "Por "
      ]
    },
    {
      "cell_type": "code",
      "metadata": {
        "id": "anRGcUDZJjSg",
        "colab_type": "code",
        "colab": {
          "base_uri": "https://localhost:8080/",
          "height": 170
        },
        "outputId": "c7a383e0-29a9-403f-cf98-e05389a83c7a"
      },
      "source": [
        "#Contando os motivos de reclamação\n",
        "print('Foram constatados {} motivos diferentes de reclamações.\\n\\n'.format(len(df.Motivo.value_counts())))\n",
        "df.Motivo.value_counts().head()"
      ],
      "execution_count": 7,
      "outputs": [
        {
          "output_type": "stream",
          "text": [
            "Foram constatados 209 motivos diferentes de reclamações.\n",
            "\n",
            "\n"
          ],
          "name": "stdout"
        },
        {
          "output_type": "execute_result",
          "data": {
            "text/plain": [
              "Cobrança em desacordo com o contratado                        1028\n",
              "Cobrança de serviço, produto ou plano não contratado           767\n",
              "Cobrança após cancelamento                                     738\n",
              "Instalação ou habilitação não realizada                        698\n",
              "Cancelamento solicitado por meio de atendente não efetuado     686\n",
              "Name: Motivo, dtype: int64"
            ]
          },
          "metadata": {
            "tags": []
          },
          "execution_count": 7
        }
      ]
    },
    {
      "cell_type": "code",
      "metadata": {
        "id": "tcR9MiROKTPY",
        "colab_type": "code",
        "colab": {
          "base_uri": "https://localhost:8080/",
          "height": 616
        },
        "outputId": "36b5188a-67db-4a94-de0e-d173418a4447"
      },
      "source": [
        "#Contando a quantidade de queixas por pessoa\n",
        "print(df.QtdeSolic.value_counts().head(),'\\n\\n')\n",
        "df.QtdeSolic.plot(kind='box', vert=False, figsize=(20,3))\n",
        "df[['QtdeSolic']].describe()\n"
      ],
      "execution_count": 8,
      "outputs": [
        {
          "output_type": "stream",
          "text": [
            "1    18272\n",
            "2     6048\n",
            "3     2925\n",
            "4     1798\n",
            "5     1206\n",
            "Name: QtdeSolic, dtype: int64 \n",
            "\n",
            "\n"
          ],
          "name": "stdout"
        },
        {
          "output_type": "execute_result",
          "data": {
            "text/html": [
              "<div>\n",
              "<style scoped>\n",
              "    .dataframe tbody tr th:only-of-type {\n",
              "        vertical-align: middle;\n",
              "    }\n",
              "\n",
              "    .dataframe tbody tr th {\n",
              "        vertical-align: top;\n",
              "    }\n",
              "\n",
              "    .dataframe thead th {\n",
              "        text-align: right;\n",
              "    }\n",
              "</style>\n",
              "<table border=\"1\" class=\"dataframe\">\n",
              "  <thead>\n",
              "    <tr style=\"text-align: right;\">\n",
              "      <th></th>\n",
              "      <th>QtdeSolic</th>\n",
              "    </tr>\n",
              "  </thead>\n",
              "  <tbody>\n",
              "    <tr>\n",
              "      <th>count</th>\n",
              "      <td>35421.000000</td>\n",
              "    </tr>\n",
              "    <tr>\n",
              "      <th>mean</th>\n",
              "      <td>4.089721</td>\n",
              "    </tr>\n",
              "    <tr>\n",
              "      <th>std</th>\n",
              "      <td>12.368996</td>\n",
              "    </tr>\n",
              "    <tr>\n",
              "      <th>min</th>\n",
              "      <td>1.000000</td>\n",
              "    </tr>\n",
              "    <tr>\n",
              "      <th>25%</th>\n",
              "      <td>1.000000</td>\n",
              "    </tr>\n",
              "    <tr>\n",
              "      <th>50%</th>\n",
              "      <td>1.000000</td>\n",
              "    </tr>\n",
              "    <tr>\n",
              "      <th>75%</th>\n",
              "      <td>3.000000</td>\n",
              "    </tr>\n",
              "    <tr>\n",
              "      <th>max</th>\n",
              "      <td>492.000000</td>\n",
              "    </tr>\n",
              "  </tbody>\n",
              "</table>\n",
              "</div>"
            ],
            "text/plain": [
              "          QtdeSolic\n",
              "count  35421.000000\n",
              "mean       4.089721\n",
              "std       12.368996\n",
              "min        1.000000\n",
              "25%        1.000000\n",
              "50%        1.000000\n",
              "75%        3.000000\n",
              "max      492.000000"
            ]
          },
          "metadata": {
            "tags": []
          },
          "execution_count": 8
        },
        {
          "output_type": "display_data",
          "data": {
            "image/png": "[encoded data removed]",
            "text/plain": [
              "<Figure size 1440x216 with 1 Axes>"
            ]
          },
          "metadata": {
            "tags": [],
            "needs_background": "light"
          }
        }
      ]
    },
    {
      "cell_type": "code",
      "metadata": {
        "id": "hqCXBEl5NYNn",
        "colab_type": "code",
        "colab": {
          "base_uri": "https://localhost:8080/",
          "height": 289
        },
        "outputId": "f0e825db-9b72-48f4-cdac-566f86049822"
      },
      "source": [
        "#Tipo de serviços que mais gera reclamações\n",
        "df.Servico.value_counts()"
      ],
      "execution_count": 9,
      "outputs": [
        {
          "output_type": "execute_result",
          "data": {
            "text/plain": [
              "Celular Pós-Pago                           9787\n",
              "Celular Pré-Pago                           7234\n",
              "Banda Larga Fixa                           6323\n",
              "Telefone Fixo                              6200\n",
              "TV por Assinatura                          5185\n",
              "Serviços da Anatel                          435\n",
              "Móvel Pessoal                                96\n",
              "Radiodifusão (Rádio e TV)                    66\n",
              "Serviço de Comunicação Multimídia            33\n",
              "Rádio do Cidadão (PX)                        28\n",
              "Radioamador (PY)                             15\n",
              "Serviço Telefônico Fixo Comutado - STFC       7\n",
              "Limitado Privado                              7\n",
              "Outros                                        3\n",
              "Serviço Móvel Aeronáutico                     2\n",
              "Name: Servico, dtype: int64"
            ]
          },
          "metadata": {
            "tags": []
          },
          "execution_count": 9
        }
      ]
    },
    {
      "cell_type": "code",
      "metadata": {
        "id": "H4WlvPrMTOYV",
        "colab_type": "code",
        "colab": {
          "base_uri": "https://localhost:8080/",
          "height": 306
        },
        "outputId": "28f3097b-29e3-4ad4-df71-9bf94afaf13b"
      },
      "source": [
        "#Número de Reclamações por Operadora\n",
        "df.GrupoEconNorm.value_counts()"
      ],
      "execution_count": 10,
      "outputs": [
        {
          "output_type": "execute_result",
          "data": {
            "text/plain": [
              "OI                   9607\n",
              "VIVO                 7387\n",
              "TIM                  7149\n",
              "CLARO                4631\n",
              "NET                  3050\n",
              "SKY                  2141\n",
              "Outros               1185\n",
              "NEXTEL                111\n",
              "HUGHES NET             85\n",
              "Correios Celular       39\n",
              "ALGAR                  23\n",
              "NOSSA TV - BRASIL       4\n",
              "SERCOMTEL               3\n",
              "CABO TELECOM            2\n",
              "Brisanet                1\n",
              "Datora                  1\n",
              "Name: GrupoEconNorm, dtype: int64"
            ]
          },
          "metadata": {
            "tags": []
          },
          "execution_count": 10
        }
      ]
    },
    {
      "cell_type": "code",
      "metadata": {
        "id": "qSaqTZXmYHh9",
        "colab_type": "code",
        "colab": {
          "base_uri": "https://localhost:8080/",
          "height": 102
        },
        "outputId": "d415dacf-adcc-4f5c-ed1f-4c4e5fbb1989"
      },
      "source": [
        "df.CanalEntrada.value_counts()"
      ],
      "execution_count": 11,
      "outputs": [
        {
          "output_type": "execute_result",
          "data": {
            "text/plain": [
              "Call Center             15475\n",
              "Fale Conosco            11529\n",
              "Aplicativo Móvel         8096\n",
              "Atendimento Pessoal       321\n",
              "Name: CanalEntrada, dtype: int64"
            ]
          },
          "metadata": {
            "tags": []
          },
          "execution_count": 11
        }
      ]
    },
    {
      "cell_type": "markdown",
      "metadata": {
        "id": "hso5zQmVYw8n",
        "colab_type": "text"
      },
      "source": [
        "## Por Operadora"
      ]
    },
    {
      "cell_type": "code",
      "metadata": {
        "id": "nnmvzq2FY0lE",
        "colab_type": "code",
        "colab": {}
      },
      "source": [
        ""
      ],
      "execution_count": 11,
      "outputs": []
    }
  ]
}