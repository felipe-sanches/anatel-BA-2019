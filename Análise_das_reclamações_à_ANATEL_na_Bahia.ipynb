{
  "nbformat": 4,
  "nbformat_minor": 0,
  "metadata": {
    "colab": {
      "name": "Análise das reclamações à ANATEL na Bahia.ipynb",
      "provenance": [],
      "collapsed_sections": [],
      "authorship_tag": "ABX9TyNr152SUCUju3pDKDQ3gNQF",
      "include_colab_link": true
    },
    "kernelspec": {
      "name": "python3",
      "display_name": "Python 3"
    }
  },
  "cells": [
    {
      "cell_type": "markdown",
      "metadata": {
        "id": "view-in-github",
        "colab_type": "text"
      },
      "source": [
        "<a href=\"https://colab.research.google.com/github/felipe-sanches/anatel-BA-2019/blob/master/An%C3%A1lise_das_reclama%C3%A7%C3%B5es_%C3%A0_ANATEL_na_Bahia.ipynb\" target=\"_parent\"><img src=\"https://colab.research.google.com/assets/colab-badge.svg\" alt=\"Open In Colab\"/></a>"
      ]
    },
    {
      "cell_type": "markdown",
      "metadata": {
        "id": "k6v3YrdK8WCG",
        "colab_type": "text"
      },
      "source": [
       <center><img alt="ANATEL" width="100%" src="https://github.com/felipe-sanches/anatel-BA-2019/blob/master/Nepa-for-Telecom-768x422.jpeg?raw=true"></center>
        "\n",
        "\n",
        "\n",
        "# Análise de Dados das reclamações ANATEL na Bahia\n",
        "\n",
        "A Agência Nacional de Telecomunicações (Anatel) é a primeira agência reguladora a ser instalada no Brasil , criada pela Lei 9.472, de 16 de julho de 1997.\n",
        "\n",
        "De acordo com o planejamento estratégico da Anatel para o período 2015 a 2024, sua missão é \"regular o setor de telecomunicações para contribuir com o desenvolvimento do Brasil\".\n",
        "\n",
        "A Agência é uma autarquia administrativamente independente, financeiramente autônoma, não subordinada hierarquicamente a nenhum órgão de governo. Última instância administrativa, as decisões da Anatel só podem ser contestadas judicialmente.\n",
        "\n",
        "## Dados abertos\n",
        "\n",
        "O Plano de Dados Abertos da ANATEL, é o documento orientador para as ações de implementação e promoção de abertura de dados. O Plano tem sintonia com o Planejamento Estratégico da Agência, que estabelece a promoção da disseminação de dados como um dos seus objetivos.\n",
        "\n",
        "Dados abertos são dados acessíveis ao público, representados em meio digital, estruturados em formato aberto (não proprietário), processáveis por máquina, referenciados na internet e disponibilizados sob licença aberta que permita sua livre utilização, consumo ou cruzamento, limitando-se a creditar a autoria ou a fonte.\n",
        "\n",
        "Nesse sentido, a Anatel já tem promovido diversas ações voltadas para a disponibilização de dados setoriais, tanto para outros órgãos públicos ou empresas como para os usuários em geral. Contudo, esse objetivo de promover a disseminação de dados e informações setoriais visa elevar os esforços a outro nível, de modo a permitir a verdadeira integração informacional entre instituições cuja atividade está intimamente relacionada ao setor e dar a devida publicidade aos resultados regulatórios da Agência, angariando insumos de retroalimentação para a melhoria dos seus processos.\n",
        "\n",
        "---\n",
        "Neste notebook serão analisados dados referentes aos registros de reclamações, denúncias, pedidos de informação e sugestões em relação às operadoras e à Anatel.\n",
        "\n",
        "\n",
        "\n",
        "\n",
        "\n",
        "\n",
        "\n"
      ]
    },
    {
      "cell_type": "markdown",
      "metadata": {
        "id": "1z50AUdR87MN",
        "colab_type": "text"
      },
      "source": [
        "## Obtenção dos dados\n",
        "\n",
        "O Dataset utilizado nesta análise está disponível no Portal Brasileiro de Dados Abertos neste [endereço](http://www.dados.gov.br/dataset/solicitacoesregistradasnaanatel).\n",
        "\n",
        "Para esta análise exploratória será baixado apenas o seguinte arquivo:\n",
        "\n",
        "* `Solicitações Registradas na Anatel (2019-BA).csv`\n"
      ]
    },
    {
      "cell_type": "code",
      "metadata": {
        "id": "IaiC9O_iiU_c",
        "colab_type": "code",
        "colab": {}
      },
      "source": [
        "#instalando o pywaffle\n",
        "!pip install pywaffle -q"
      ],
      "execution_count": 100,
      "outputs": []
    },
    {
      "cell_type": "code",
      "metadata": {
        "id": "0envDT3G0x7x",
        "colab_type": "code",
        "colab": {}
      },
      "source": [
        "#importando pacotes necessários\n",
        "import pandas as pd\n",
        "import matplotlib.pyplot as plt\n",
        "import seaborn as sns\n",
        "from pywaffle import Waffle\n"
      ],
      "execution_count": 101,
      "outputs": []
    },
    {
      "cell_type": "code",
      "metadata": {
        "id": "eKnEVrpK1yR5",
        "colab_type": "code",
        "colab": {}
      },
      "source": [
        "#importando o arquivo para um dataframe\n",
        "df = pd.read_csv('https://raw.githubusercontent.com/felipe-sanches/anatel-BA-2019/master/Solicita%C3%A7%C3%B5es%20Registradas%20na%20Anatel%20(2019-BA).csv', sep = ';', encoding='latin-1')\n"
      ],
      "execution_count": 102,
      "outputs": []
    },
    {
      "cell_type": "markdown",
      "metadata": {
        "id": "LgFv22Z7QXIz",
        "colab_type": "text"
      },
      "source": [
        "### Análise dos dados\n",
        "\n",
        "Nesta etapa o objetivo é compreender a estrutura do Dataset, e avaliar a sua situação atual.\n",
        "\n",
        "**Dicionário de termos:**\n",
        "\n",
        "* `Ano:` ano de registro da solicitação.\n",
        "\n",
        "* `Canal de Entrada:` os canais pelos quais a Anatel pode receber solicitações (Fale Conosco, 1331, Aplicativo, etc.), ou seja, o canal de atendimento usado pelo consumidor para registrar a solicitação.\n",
        "\n",
        "* `Condição:` Informa se a solicitação já foi reaberta. Solicitações que nunca foram reabertas permanecem como “Nova”, do contrário constam como “Reaberta”.\n",
        "\n",
        "* `Data da Extração:` data em que os dados foram extraídos da base do sistema Focus da Anatel para consolidação.\n",
        "\n",
        "* `Grupo Econômico:` grupo econômico segundo a marca a que se refere a solicitação. Assim, por exemplo, apesar de Claro e Net pertencerem ao mesmo grupo econômico, as marcas são distintas e, portanto, aparecem separadas.\n",
        "\n",
        "* `Mês:` mês de registro da solicitação.\n",
        "\n",
        "* `Modalidade:` as modalidades pretendem indicar, em um nível mais amplo, o tema ao qual estão atreladas as solicitações registradas e são subdividas em motivos.\n",
        "\n",
        "* `Motivos:` os motivos expressam a natureza das demandas com mais detalhes.\n",
        "\n",
        "* `ND:` Não declarada.\n",
        "\n",
        "* `Prestadora:` empresa que possui autorização ou concessão da Anatel para a exploração de serviços de telecomunicações.\n",
        "\n",
        "* `Quantidade de Solicitações:` quantidade de solicitações registradas na Anatel.\n",
        "\n",
        "* `SCM:` Serviço de Comunicação Multimídia (banda larga fixa).\n",
        "\n",
        "* `Serviço:` indica o serviço a que se refere a solicitação (Telefone Fixo, Banda Larga Fixa, TV por Assinatura e Celular Pré-Pago e Celular Pós-Pago).\n",
        "\n",
        "* `Solicitação Nova:` uma solicitação que, uma vez respondida, não foi reaberta pelo consumidor.\n",
        "\n",
        "* `Solicitação Reaberta:` o consumidor que não se sente satisfeito com a resposta dada a sua reclamação pode reabrir a solicitação para que a prestadora manifeste-se novamente.\n",
        "\n",
        "* `STFC:` Serviço Telefônico Fixo Comutado (telefonia fixa).\n",
        "\n",
        "* `UF:` Unidade da Federação – Estados, Territórios e Distrito Federal.\n"
      ]
    },
    {
      "cell_type": "code",
      "metadata": {
        "id": "n75kVyVaSH1c",
        "colab_type": "code",
        "colab": {
          "base_uri": "https://localhost:8080/",
          "height": 374
        },
        "outputId": "8c24ae0a-e8ad-496a-ec17-a4b58a0b7bf2"
      },
      "source": [
        "# mostrando as 5 primeiras entradas\n",
        "df.head()"
      ],
      "execution_count": 103,
      "outputs": [
        {
          "output_type": "execute_result",
          "data": {
            "text/html": [
              "<div>\n",
              "<style scoped>\n",
              "    .dataframe tbody tr th:only-of-type {\n",
              "        vertical-align: middle;\n",
              "    }\n",
              "\n",
              "    .dataframe tbody tr th {\n",
              "        vertical-align: top;\n",
              "    }\n",
              "\n",
              "    .dataframe thead th {\n",
              "        text-align: right;\n",
              "    }\n",
              "</style>\n",
              "<table border=\"1\" class=\"dataframe\">\n",
              "  <thead>\n",
              "    <tr style=\"text-align: right;\">\n",
              "      <th></th>\n",
              "      <th>DataExtracao</th>\n",
              "      <th>Ano</th>\n",
              "      <th>Mes</th>\n",
              "      <th>CanalEntrada</th>\n",
              "      <th>Condicao</th>\n",
              "      <th>GrupoEconNorm</th>\n",
              "      <th>Tipo</th>\n",
              "      <th>Servico</th>\n",
              "      <th>Modalidade</th>\n",
              "      <th>Motivo</th>\n",
              "      <th>UF</th>\n",
              "      <th>QtdeSolic</th>\n",
              "    </tr>\n",
              "  </thead>\n",
              "  <tbody>\n",
              "    <tr>\n",
              "      <th>0</th>\n",
              "      <td>2019-10-08</td>\n",
              "      <td>2019</td>\n",
              "      <td>1</td>\n",
              "      <td>Aplicativo Móvel</td>\n",
              "      <td>Nova</td>\n",
              "      <td>CLARO</td>\n",
              "      <td>Reclamação</td>\n",
              "      <td>Banda Larga Fixa</td>\n",
              "      <td>Cobrança</td>\n",
              "      <td>Cobrança durante a suspensão ou bloqueio do se...</td>\n",
              "      <td>BA</td>\n",
              "      <td>1</td>\n",
              "    </tr>\n",
              "    <tr>\n",
              "      <th>1</th>\n",
              "      <td>2019-10-08</td>\n",
              "      <td>2019</td>\n",
              "      <td>1</td>\n",
              "      <td>Aplicativo Móvel</td>\n",
              "      <td>Nova</td>\n",
              "      <td>CLARO</td>\n",
              "      <td>Reclamação</td>\n",
              "      <td>Celular Pós-Pago</td>\n",
              "      <td>Atendimento</td>\n",
              "      <td>Consumidor não consegue registrar reclamação n...</td>\n",
              "      <td>BA</td>\n",
              "      <td>1</td>\n",
              "    </tr>\n",
              "    <tr>\n",
              "      <th>2</th>\n",
              "      <td>2019-10-08</td>\n",
              "      <td>2019</td>\n",
              "      <td>1</td>\n",
              "      <td>Aplicativo Móvel</td>\n",
              "      <td>Nova</td>\n",
              "      <td>CLARO</td>\n",
              "      <td>Reclamação</td>\n",
              "      <td>Celular Pós-Pago</td>\n",
              "      <td>Atendimento</td>\n",
              "      <td>Indisponibilidade do canal de atendimento</td>\n",
              "      <td>BA</td>\n",
              "      <td>2</td>\n",
              "    </tr>\n",
              "    <tr>\n",
              "      <th>3</th>\n",
              "      <td>2019-10-08</td>\n",
              "      <td>2019</td>\n",
              "      <td>1</td>\n",
              "      <td>Aplicativo Móvel</td>\n",
              "      <td>Nova</td>\n",
              "      <td>CLARO</td>\n",
              "      <td>Reclamação</td>\n",
              "      <td>Celular Pós-Pago</td>\n",
              "      <td>Atendimento</td>\n",
              "      <td>Não retorno de ligação interrompida ao falar c...</td>\n",
              "      <td>BA</td>\n",
              "      <td>1</td>\n",
              "    </tr>\n",
              "    <tr>\n",
              "      <th>4</th>\n",
              "      <td>2019-10-08</td>\n",
              "      <td>2019</td>\n",
              "      <td>1</td>\n",
              "      <td>Aplicativo Móvel</td>\n",
              "      <td>Nova</td>\n",
              "      <td>CLARO</td>\n",
              "      <td>Reclamação</td>\n",
              "      <td>Celular Pós-Pago</td>\n",
              "      <td>Bloqueio ou Suspensão e Desbloqueio</td>\n",
              "      <td>Bloqueio ou suspensão parcial indevido</td>\n",
              "      <td>BA</td>\n",
              "      <td>5</td>\n",
              "    </tr>\n",
              "  </tbody>\n",
              "</table>\n",
              "</div>"
            ],
            "text/plain": [
              "  DataExtracao   Ano  ...  UF QtdeSolic\n",
              "0   2019-10-08  2019  ...  BA         1\n",
              "1   2019-10-08  2019  ...  BA         1\n",
              "2   2019-10-08  2019  ...  BA         2\n",
              "3   2019-10-08  2019  ...  BA         1\n",
              "4   2019-10-08  2019  ...  BA         5\n",
              "\n",
              "[5 rows x 12 columns]"
            ]
          },
          "metadata": {
            "tags": []
          },
          "execution_count": 103
        }
      ]
    },
    {
      "cell_type": "markdown",
      "metadata": {
        "id": "QY6TUlj9Vydc",
        "colab_type": "text"
      },
      "source": [
        "### **Quantos atributos (variáveis) e quantas entradas o *Dataset* possui? Quais os tipos das variáveis?**\n",
        "\n",
        "Vamos prosseguir e identificar a quantidade de entradas que nosso conjunto de dados possui e ver os tipos de cada coluna."
      ]
    },
    {
      "cell_type": "code",
      "metadata": {
        "id": "QFLxPQ-B4so7",
        "colab_type": "code",
        "colab": {
          "base_uri": "https://localhost:8080/",
          "height": 289
        },
        "outputId": "874f41a6-9240-4230-8aba-bbb6d1d77d84"
      },
      "source": [
        "# Identificando o volume de dados do DataFrame\n",
        "print(\"Entradas:\\t {}\".format(df.shape[0]))\n",
        "print(\"Variáveis:\\t {}\".format(df.shape[1]),\"\\n\")\n",
        "\n",
        "#Tipos de dados contidos no dataset\n",
        "display(df.dtypes)"
      ],
      "execution_count": 104,
      "outputs": [
        {
          "output_type": "stream",
          "text": [
            "Entradas:\t 35421\n",
            "Variáveis:\t 12 \n",
            "\n"
          ],
          "name": "stdout"
        },
        {
          "output_type": "display_data",
          "data": {
            "text/plain": [
              "DataExtracao     object\n",
              "Ano               int64\n",
              "Mes               int64\n",
              "CanalEntrada     object\n",
              "Condicao         object\n",
              "GrupoEconNorm    object\n",
              "Tipo             object\n",
              "Servico          object\n",
              "Modalidade       object\n",
              "Motivo           object\n",
              "UF               object\n",
              "QtdeSolic         int64\n",
              "dtype: object"
            ]
          },
          "metadata": {
            "tags": []
          }
        }
      ]
    },
    {
      "cell_type": "markdown",
      "metadata": {
        "id": "_AoabcznbdBY",
        "colab_type": "text"
      },
      "source": [
        "### **Qual a porcentagem de valores ausentes?**\n",
        "\n",
        "A qualidade de um *dataset* está diretamente relacionada à quantidade de valores ausentes. É importante entender logo no início se esses valores nulos são significativos comparados ao total de entradas.\n",
        "\n"
      ]
    },
    {
      "cell_type": "code",
      "metadata": {
        "id": "7-YEpxzd9dqV",
        "colab_type": "code",
        "colab": {
          "base_uri": "https://localhost:8080/",
          "height": 306
        },
        "outputId": "bf8477bc-0a62-4532-dbc4-ba3a9da088c3"
      },
      "source": [
        "#Verificando quantidade de valores ausentes em cada variável do dataset\n",
        "print('Valores ausentes no Dataset:\\n',df.isnull().sum(), '\\n\\n\\n')\n"
      ],
      "execution_count": 105,
      "outputs": [
        {
          "output_type": "stream",
          "text": [
            "Valores ausentes no Dataset:\n",
            " DataExtracao     0\n",
            "Ano              0\n",
            "Mes              0\n",
            "CanalEntrada     0\n",
            "Condicao         0\n",
            "GrupoEconNorm    2\n",
            "Tipo             0\n",
            "Servico          0\n",
            "Modalidade       0\n",
            "Motivo           0\n",
            "UF               0\n",
            "QtdeSolic        0\n",
            "dtype: int64 \n",
            "\n",
            "\n",
            "\n"
          ],
          "name": "stdout"
        }
      ]
    },
    {
      "cell_type": "code",
      "metadata": {
        "id": "skVS2ZYobrnH",
        "colab_type": "code",
        "colab": {
          "base_uri": "https://localhost:8080/",
          "height": 68
        },
        "outputId": "7a25dd4d-87ac-4529-d315-fcbb8966c7aa"
      },
      "source": [
        "#verificando o tamanho da única variável que tem valores ausentes\n",
        "print('Tamanho total da variável \"GrupoEconNorm\": {}'.format(df[\"GrupoEconNorm\"].size))\n",
        "\n",
        "#Verificando percentual de valores ausentes no dataset\n",
        "print('Porcentagem de valores ausentes em GrupoEconNorm: \\n{:.4f}%'.format((df.GrupoEconNorm.isnull().sum()/df[\"GrupoEconNorm\"].size)*100))"
      ],
      "execution_count": 106,
      "outputs": [
        {
          "output_type": "stream",
          "text": [
            "Tamanho total da variável \"GrupoEconNorm\": 35421\n",
            "Porcentagem de valores ausentes em GrupoEconNorm: \n",
            "0.0056%\n"
          ],
          "name": "stdout"
        }
      ]
    },
    {
      "cell_type": "markdown",
      "metadata": {
        "id": "i2NqXVAgPpep",
        "colab_type": "text"
      },
      "source": [
        "Percebe-se com isto que existem apenas dois valores ausentes no dataset.\n",
        "\n",
        "Considerando a pequena quantidade de dados ausentes, e o fato de de que eles representam uma porcentagem ínfima quando relacionada à quantidade total de dados, as entradas que contém os valores ausentes serão excluídas.\n",
        "\n"
      ]
    },
    {
      "cell_type": "code",
      "metadata": {
        "id": "-oZQHlBkSbYa",
        "colab_type": "code",
        "colab": {
          "base_uri": "https://localhost:8080/",
          "height": 136
        },
        "outputId": "1750eb99-7c52-4766-d2b5-adac28a4d420"
      },
      "source": [
        "#excluindo as entradas onde existam valores ausentes em `GrupoEconNorm`\n",
        "print(\"Tamanho antes da remoção das entradas: {} \\n\".format(df.shape))\n",
        "print(\"Removendo entradas...\\n\")\n",
        "df = df.dropna(subset=['GrupoEconNorm'], axis=0)\n",
        "print(\"Tamanho depois da remoção das entradas: {} \\n\\n\".format(df.shape))"
      ],
      "execution_count": 107,
      "outputs": [
        {
          "output_type": "stream",
          "text": [
            "Tamanho antes da remoção das entradas: (35421, 12) \n",
            "\n",
            "Removendo entradas...\n",
            "\n",
            "Tamanho depois da remoção das entradas: (35419, 12) \n",
            "\n",
            "\n"
          ],
          "name": "stdout"
        }
      ]
    },
    {
      "cell_type": "markdown",
      "metadata": {
        "id": "Erg05QRjbhlm",
        "colab_type": "text"
      },
      "source": [
        "### Quais as reclamações mais reincidentes?\n",
        "\n",
        "Já que estamos tratando dos registros de reclamações, denúncias, pedidos de informação e sugestões em relação às operadoras e à Anatel, é imprescindível nesta análise verificar quais são os registros que aparecem mais vezes."
      ]
    },
    {
      "cell_type": "code",
      "metadata": {
        "id": "anRGcUDZJjSg",
        "colab_type": "code",
        "colab": {
          "base_uri": "https://localhost:8080/",
          "height": 187
        },
        "outputId": "8f82a9dc-7128-4451-a4b8-6eca8cd0d7ae"
      },
      "source": [
        "#Contando os motivos de reclamação\n",
        "print('Foram constatados {} motivos diferentes de reclamações.\\n'.format(len(df.Motivo.value_counts())))\n",
        "print('Os cinco motivos mais reincidentes foram:\\n\\n{}'.format(df.Motivo.value_counts().head()))"
      ],
      "execution_count": 108,
      "outputs": [
        {
          "output_type": "stream",
          "text": [
            "Foram constatados 209 motivos diferentes de reclamações.\n",
            "\n",
            "Os cinco motivos mais reincidentes foram:\n",
            "\n",
            "Cobrança em desacordo com o contratado                        1028\n",
            "Cobrança de serviço, produto ou plano não contratado           767\n",
            "Cobrança após cancelamento                                     738\n",
            "Instalação ou habilitação não realizada                        698\n",
            "Cancelamento solicitado por meio de atendente não efetuado     686\n",
            "Name: Motivo, dtype: int64\n"
          ],
          "name": "stdout"
        }
      ]
    },
    {
      "cell_type": "markdown",
      "metadata": {
        "id": "hBeeCDs8srlm",
        "colab_type": "text"
      },
      "source": [
        "### Quantos registros são feitos por usuário?\n",
        "\n",
        "Nesta etapa será verificada a forma como se distribui a quantidade de registros feitos por cada usuário, individualmente. Para isto analisaremos um resumo estatístico da variável `GrupoEconNorm` através do método `describe()` e também será plotado um `boxplot` para tornar mais simples a visualização dos dados. Esta é uma forma que possibilita, também, verificar se existem *Outliers* na variável.\n"
      ]
    },
    {
      "cell_type": "code",
      "metadata": {
        "id": "tcR9MiROKTPY",
        "colab_type": "code",
        "colab": {
          "base_uri": "https://localhost:8080/",
          "height": 297
        },
        "outputId": "b5d6cf1b-eb5a-4243-ee4e-d208d31fe1ed"
      },
      "source": [
        "#Exibindo resumo estatístico por meio do método 'describe()'\n",
        "df[['QtdeSolic']].describe()\n"
      ],
      "execution_count": 109,
      "outputs": [
        {
          "output_type": "execute_result",
          "data": {
            "text/html": [
              "<div>\n",
              "<style scoped>\n",
              "    .dataframe tbody tr th:only-of-type {\n",
              "        vertical-align: middle;\n",
              "    }\n",
              "\n",
              "    .dataframe tbody tr th {\n",
              "        vertical-align: top;\n",
              "    }\n",
              "\n",
              "    .dataframe thead th {\n",
              "        text-align: right;\n",
              "    }\n",
              "</style>\n",
              "<table border=\"1\" class=\"dataframe\">\n",
              "  <thead>\n",
              "    <tr style=\"text-align: right;\">\n",
              "      <th></th>\n",
              "      <th>QtdeSolic</th>\n",
              "    </tr>\n",
              "  </thead>\n",
              "  <tbody>\n",
              "    <tr>\n",
              "      <th>count</th>\n",
              "      <td>35419.000000</td>\n",
              "    </tr>\n",
              "    <tr>\n",
              "      <th>mean</th>\n",
              "      <td>4.089895</td>\n",
              "    </tr>\n",
              "    <tr>\n",
              "      <th>std</th>\n",
              "      <td>12.369323</td>\n",
              "    </tr>\n",
              "    <tr>\n",
              "      <th>min</th>\n",
              "      <td>1.000000</td>\n",
              "    </tr>\n",
              "    <tr>\n",
              "      <th>25%</th>\n",
              "      <td>1.000000</td>\n",
              "    </tr>\n",
              "    <tr>\n",
              "      <th>50%</th>\n",
              "      <td>1.000000</td>\n",
              "    </tr>\n",
              "    <tr>\n",
              "      <th>75%</th>\n",
              "      <td>3.000000</td>\n",
              "    </tr>\n",
              "    <tr>\n",
              "      <th>max</th>\n",
              "      <td>492.000000</td>\n",
              "    </tr>\n",
              "  </tbody>\n",
              "</table>\n",
              "</div>"
            ],
            "text/plain": [
              "          QtdeSolic\n",
              "count  35419.000000\n",
              "mean       4.089895\n",
              "std       12.369323\n",
              "min        1.000000\n",
              "25%        1.000000\n",
              "50%        1.000000\n",
              "75%        3.000000\n",
              "max      492.000000"
            ]
          },
          "metadata": {
            "tags": []
          },
          "execution_count": 109
        }
      ]
    },
    {
      "cell_type": "code",
      "metadata": {
        "id": "EENeBqUEsidV",
        "colab_type": "code",
        "colab": {
          "base_uri": "https://localhost:8080/",
          "height": 220
        },
        "outputId": "25f55e3b-2ed9-4beb-e864-7a9f561c5def"
      },
      "source": [
        "#plotando boxplot\n",
        "df.QtdeSolic.plot(kind='box', vert=False, xlim=(0,10), figsize=(20,3));\n",
        "plt.show()\n",
        "\n",
        "#verificando a quantidade de valores acima de 10 para QtdeSolic\n",
        "print(\"Valores acima de 10 em QtdeSolic:    {} entradas.\".format(len(df[df.QtdeSolic>10])))\n",
        "print(\"Representação em porcentagem:        {:.2f}%\".format((len(df[df.QtdeSolic>10])/df.shape[0])*100))"
      ],
      "execution_count": 110,
      "outputs": [
        {
          "output_type": "display_data",
          "data": {
            "image/png": "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\n",
            "text/plain": [
              "<Figure size 1440x216 with 1 Axes>"
            ]
          },
          "metadata": {
            "tags": [],
            "needs_background": "light"
          }
        },
        {
          "output_type": "stream",
          "text": [
            "Valores acima de 10 em QtdeSolic:    2526 entradas.\n",
            "Representação em porcentagem:        7.13%\n"
          ],
          "name": "stdout"
        }
      ]
    },
    {
      "cell_type": "markdown",
      "metadata": {
        "id": "oF46kml6U6km",
        "colab_type": "text"
      },
      "source": [
        "A partir da análise feita acima, nota-se que apesar de o maior número de solicitações feitas por um usuário ser 492:\n",
        "- 75% dos usuários registraram até 3 solicitações;\n",
        "- Apenas 7,13% dos usuários registraram mais de 10 solicitações."
      ]
    },
    {
      "cell_type": "markdown",
      "metadata": {
        "id": "UM9RFMxY_tph",
        "colab_type": "text"
      },
      "source": [
        "### Quais os serviços que mais recebem reclamações?\n",
        "\n",
        "Nesta etapa serão verificados os tipos de serviços que mais motivam reclamações dos usuários à Agência, as operadoras com maiores números de reclamações e \n",
        "\n"
      ]
    },
    {
      "cell_type": "code",
      "metadata": {
        "id": "5Q2wLcNP3Ny9",
        "colab_type": "code",
        "colab": {
          "base_uri": "https://localhost:8080/",
          "height": 204
        },
        "outputId": "3392690b-0b0a-4f7d-ab38-bfde3c391057"
      },
      "source": [
        "# plotar o gráfico de barras indicando em ordem decrescente de recorrência os serviços com mais registros de reclamações.\n",
        "df.Servico.value_counts().head(10)"
      ],
      "execution_count": 111,
      "outputs": [
        {
          "output_type": "execute_result",
          "data": {
            "text/plain": [
              "Celular Pós-Pago                     9787\n",
              "Celular Pré-Pago                     7234\n",
              "Banda Larga Fixa                     6321\n",
              "Telefone Fixo                        6200\n",
              "TV por Assinatura                    5185\n",
              "Serviços da Anatel                    435\n",
              "Móvel Pessoal                          96\n",
              "Radiodifusão (Rádio e TV)              66\n",
              "Serviço de Comunicação Multimídia      33\n",
              "Rádio do Cidadão (PX)                  28\n",
              "Name: Servico, dtype: int64"
            ]
          },
          "metadata": {
            "tags": []
          },
          "execution_count": 111
        }
      ]
    },
    {
      "cell_type": "code",
      "metadata": {
        "id": "H4WlvPrMTOYV",
        "colab_type": "code",
        "colab": {
          "base_uri": "https://localhost:8080/",
          "height": 499
        },
        "outputId": "6589f26a-09fb-4843-ae0e-9554a97bf99c"
      },
      "source": [
        "#plotar o gráfico de barras indicando em ordem decrescente as Reclamações por Operadora\n",
        "df.GrupoEconNorm.value_counts().head(10).plot(kind='bar', figsize=(15,7)); "
      ],
      "execution_count": 112,
      "outputs": [
        {
          "output_type": "display_data",
          "data": {
            "image/png": "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\n",
            "text/plain": [
              "<Figure size 1080x504 with 1 Axes>"
            ]
          },
          "metadata": {
            "tags": [],
            "needs_background": "light"
          }
        }
      ]
    },
    {
      "cell_type": "code",
      "metadata": {
        "id": "qSaqTZXmYHh9",
        "colab_type": "code",
        "colab": {
          "base_uri": "https://localhost:8080/",
          "height": 102
        },
        "outputId": "5cc35a3d-a82d-49ca-93d8-6bfde840aeaa"
      },
      "source": [
        "#Porcentagens dos Canais de entrada de registros\n",
        "(df.CanalEntrada.value_counts() / df.shape[0])*100\n"
      ],
      "execution_count": 113,
      "outputs": [
        {
          "output_type": "execute_result",
          "data": {
            "text/plain": [
              "Call Center             43.688416\n",
              "Fale Conosco            32.550326\n",
              "Aplicativo Móvel        22.854965\n",
              "Atendimento Pessoal      0.906293\n",
              "Name: CanalEntrada, dtype: float64"
            ]
          },
          "metadata": {
            "tags": []
          },
          "execution_count": 113
        }
      ]
    },
    {
      "cell_type": "code",
      "metadata": {
        "id": "LLwfOreHeZQg",
        "colab_type": "code",
        "colab": {
          "base_uri": "https://localhost:8080/",
          "height": 120
        },
        "outputId": "a0db5cc3-ba76-4dc2-c4d1-8c7c88d8860a"
      },
      "source": [
        "#extrair os valores em porcentagem da variavel CanalEntrada\n",
        "data= (df.CanalEntrada.value_counts() / df.shape[0])*100\n",
        "#arredondando valores\n",
        "data = data.round()\n",
        "\n",
        "#plotando grafico de waffle demonstrando o percentual de canais de entrada utilizados para registros de reclamações \n",
        "fig = plt.figure(\n",
        "    FigureClass=Waffle,\n",
        "    rows=5,\n",
        "    values=data,\n",
        "    title={'label': 'Demonstração Proporcional dos Canais de Entrada Utilizados', 'loc': 'left'},\n",
        "    colors=[\"#232066\", \"#983D3D\", \"#FFA500\", \"#C0C0C0\"],\n",
        "    icons=['phone', 'envelope', 'mobile-alt', 'user-alt'],\n",
        "    labels=[\"{0} ({1})\".format(k, v) for k, v in data.items()],\n",
        "    figsize=(7,3),\n",
        "    font_size=12,\n",
        "    icon_style='solid',\n",
        "    icon_legend=True,\n",
        "    legend={\n",
        "        'loc': 'upper left', \n",
        "        'bbox_to_anchor': (1, 1)\n",
        "    }\n",
        ")\n",
        "fig.set_facecolor('#EEEEEE')"
      ],
      "execution_count": 121,
      "outputs": [
        {
          "output_type": "display_data",
          "data": {
            "image/png": "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\n",
            "text/plain": [
              "<Waffle size 504x216 with 1 Axes>"
            ]
          },
          "metadata": {
            "tags": []
          }
        }
      ]
    }
  ]
}
