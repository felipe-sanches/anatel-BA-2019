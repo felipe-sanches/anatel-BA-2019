{
  "nbformat": 4,
  "nbformat_minor": 0,
  "metadata": {
    "colab": {
      "name": "Análise das reclamações à ANATEL na Bahia.ipynb",
      "provenance": [],
      "collapsed_sections": [],
      "authorship_tag": "ABX9TyMzz4q4PuBFbaIZ4QsCjONT",
      "include_colab_link": true
    },
    "kernelspec": {
      "name": "python3",
      "display_name": "Python 3"
    }
  },
  "cells": [
    {
      "cell_type": "markdown",
      "metadata": {
        "id": "view-in-github",
        "colab_type": "text"
      },
      "source": [
        "<a href=\"https://colab.research.google.com/github/felipe-sanches/anatel-BA-2019/blob/master/An%C3%A1lise_das_reclama%C3%A7%C3%B5es_%C3%A0_ANATEL_na_Bahia.ipynb\" target=\"_parent\"><img src=\"https://colab.research.google.com/assets/colab-badge.svg\" alt=\"Open In Colab\"/></a>"
      ]
    },
    {
      "cell_type": "markdown",
      "metadata": {
        "id": "k6v3YrdK8WCG",
        "colab_type": "text"
      },
      "source": [
        "<center><img alt=\"Creta\" width=\"100%\" src=\"https://github.com/felipe-sanches/anatel-BA-2019/blob/master/Nepa-for-Telecom-768x422.jpeg?raw=true\"></center>\n",
        "\n",
        "\n",
        "\n",
        "# Análise de Dados das reclamações ANATEL na Bahia\n",
        "\n",
        "A Agência Nacional de Telecomunicações (Anatel) é a primeira agência reguladora a ser instalada no Brasil , criada pela Lei 9.472, de 16 de julho de 1997.\n",
        "\n",
        "De acordo com o planejamento estratégico da Anatel para o período 2015 a 2024, sua missão é \"regular o setor de telecomunicações para contribuir com o desenvolvimento do Brasil\".\n",
        "\n",
        "A Agência é uma autarquia administrativamente independente, financeiramente autônoma, não subordinada hierarquicamente a nenhum órgão de governo. Última instância administrativa, as decisões da Anatel só podem ser contestadas judicialmente.\n",
        "\n",
        "## Dados abertos\n",
        "\n",
        "O Plano de Dados Abertos da ANATEL, é o documento orientador para as ações de implementação e promoção de abertura de dados. O Plano tem sintonia com o Planejamento Estratégico da Agência, que estabelece a promoção da disseminação de dados como um dos seus objetivos.\n",
        "\n",
        "Dados abertos são dados acessíveis ao público, representados em meio digital, estruturados em formato aberto (não proprietário), processáveis por máquina, referenciados na internet e disponibilizados sob licença aberta que permita sua livre utilização, consumo ou cruzamento, limitando-se a creditar a autoria ou a fonte.\n",
        "\n",
        "Nesse sentido, a Anatel já tem promovido diversas ações voltadas para a disponibilização de dados setoriais, tanto para outros órgãos públicos ou empresas como para os usuários em geral. Contudo, esse objetivo de promover a disseminação de dados e informações setoriais visa elevar os esforços a outro nível, de modo a permitir a verdadeira integração informacional entre instituições cuja atividade está intimamente relacionada ao setor e dar a devida publicidade aos resultados regulatórios da Agência, angariando insumos de retroalimentação para a melhoria dos seus processos.\n",
        "\n",
        "---\n",
        "Neste notebook serão analisados dados referentes aos registros de reclamações, denúncias, pedidos de informação e sugestões em relação às operadoras e à Anatel.\n",
        "\n",
        "\n",
        "\n",
        "\n",
        "\n",
        "\n",
        "\n"
      ]
    },
    {
      "cell_type": "markdown",
      "metadata": {
        "id": "1z50AUdR87MN",
        "colab_type": "text"
      },
      "source": [
        "## Obtenção dos dados\n",
        "\n",
        "O Dataset utilizado nesta análise está disponível no Portal Brasileiro de Dados Abertos neste [endereço](http://www.dados.gov.br/dataset/solicitacoesregistradasnaanatel).\n",
        "\n",
        "Para esta análise exploratória será baixado apenas o seguinte arquivo:\n",
        "\n",
        "* `Solicitações Registradas na Anatel (2019-BA).csv`\n"
      ]
    },
    {
      "cell_type": "code",
      "metadata": {
        "id": "IaiC9O_iiU_c",
        "colab_type": "code",
        "colab": {}
      },
      "source": [
        "#instalando o pywaffle\n",
        "!pip install pywaffle -q"
      ],
      "execution_count": 100,
      "outputs": []
    },
    {
      "cell_type": "code",
      "metadata": {
        "id": "0envDT3G0x7x",
        "colab_type": "code",
        "colab": {}
      },
      "source": [
        "#importando pacotes necessários\n",
        "import pandas as pd\n",
        "import matplotlib.pyplot as plt\n",
        "import seaborn as sns\n",
        "from pywaffle import Waffle\n"
      ],
      "execution_count": 101,
      "outputs": []
    },
    {
      "cell_type": "code",
      "metadata": {
        "id": "eKnEVrpK1yR5",
        "colab_type": "code",
        "colab": {}
      },
      "source": [
        "#importando o arquivo para um dataframe\n",
        "df = pd.read_csv('https://raw.githubusercontent.com/felipe-sanches/anatel-BA-2019/master/Solicita%C3%A7%C3%B5es%20Registradas%20na%20Anatel%20(2019-BA).csv', sep = ';', encoding='latin-1')\n"
      ],
      "execution_count": 102,
      "outputs": []
    },
    {
      "cell_type": "markdown",
      "metadata": {
        "id": "LgFv22Z7QXIz",
        "colab_type": "text"
      },
      "source": [
        "### Análise dos dados\n",
        "\n",
        "Nesta etapa o objetivo é compreender a estrutura do Dataset, e avaliar a sua situação atual.\n",
        "\n",
        "**Dicionário de termos:**\n",
        "\n",
        "* `Ano:` ano de registro da solicitação.\n",
        "\n",
        "* `Canal de Entrada:` os canais pelos quais a Anatel pode receber solicitações (Fale Conosco, 1331, Aplicativo, etc.), ou seja, o canal de atendimento usado pelo consumidor para registrar a solicitação.\n",
        "\n",
        "* `Condição:` Informa se a solicitação já foi reaberta. Solicitações que nunca foram reabertas permanecem como “Nova”, do contrário constam como “Reaberta”.\n",
        "\n",
        "* `Data da Extração:` data em que os dados foram extraídos da base do sistema Focus da Anatel para consolidação.\n",
        "\n",
        "* `Grupo Econômico:` grupo econômico segundo a marca a que se refere a solicitação. Assim, por exemplo, apesar de Claro e Net pertencerem ao mesmo grupo econômico, as marcas são distintas e, portanto, aparecem separadas.\n",
        "\n",
        "* `Mês:` mês de registro da solicitação.\n",
        "\n",
        "* `Modalidade:` as modalidades pretendem indicar, em um nível mais amplo, o tema ao qual estão atreladas as solicitações registradas e são subdividas em motivos.\n",
        "\n",
        "* `Motivos:` os motivos expressam a natureza das demandas com mais detalhes.\n",
        "\n",
        "* `ND:` Não declarada.\n",
        "\n",
        "* `Prestadora:` empresa que possui autorização ou concessão da Anatel para a exploração de serviços de telecomunicações.\n",
        "\n",
        "* `Quantidade de Solicitações:` quantidade de solicitações registradas na Anatel.\n",
        "\n",
        "* `SCM:` Serviço de Comunicação Multimídia (banda larga fixa).\n",
        "\n",
        "* `Serviço:` indica o serviço a que se refere a solicitação (Telefone Fixo, Banda Larga Fixa, TV por Assinatura e Celular Pré-Pago e Celular Pós-Pago).\n",
        "\n",
        "* `Solicitação Nova:` uma solicitação que, uma vez respondida, não foi reaberta pelo consumidor.\n",
        "\n",
        "* `Solicitação Reaberta:` o consumidor que não se sente satisfeito com a resposta dada a sua reclamação pode reabrir a solicitação para que a prestadora manifeste-se novamente.\n",
        "\n",
        "* `STFC:` Serviço Telefônico Fixo Comutado (telefonia fixa).\n",
        "\n",
        "* `UF:` Unidade da Federação – Estados, Territórios e Distrito Federal.\n"
      ]
    },
    {
      "cell_type": "code",
      "metadata": {
        "id": "n75kVyVaSH1c",
        "colab_type": "code",
        "colab": {
          "base_uri": "https://localhost:8080/",
          "height": 374
        },
        "outputId": "8c24ae0a-e8ad-496a-ec17-a4b58a0b7bf2"
      },
      "source": [
        "# mostrando as 5 primeiras entradas\n",
        "df.head()"
      ],
      "execution_count": 103,
      "outputs": [
        {
          "output_type": "execute_result",
          "data": {
            "text/html": [
              "<div>\n",
              "<style scoped>\n",
              "    .dataframe tbody tr th:only-of-type {\n",
              "        vertical-align: middle;\n",
              "    }\n",
              "\n",
              "    .dataframe tbody tr th {\n",
              "        vertical-align: top;\n",
              "    }\n",
              "\n",
              "    .dataframe thead th {\n",
              "        text-align: right;\n",
              "    }\n",
              "</style>\n",
              "<table border=\"1\" class=\"dataframe\">\n",
              "  <thead>\n",
              "    <tr style=\"text-align: right;\">\n",
              "      <th></th>\n",
              "      <th>DataExtracao</th>\n",
              "      <th>Ano</th>\n",
              "      <th>Mes</th>\n",
              "      <th>CanalEntrada</th>\n",
              "      <th>Condicao</th>\n",
              "      <th>GrupoEconNorm</th>\n",
              "      <th>Tipo</th>\n",
              "      <th>Servico</th>\n",
              "      <th>Modalidade</th>\n",
              "      <th>Motivo</th>\n",
              "      <th>UF</th>\n",
              "      <th>QtdeSolic</th>\n",
              "    </tr>\n",
              "  </thead>\n",
              "  <tbody>\n",
              "    <tr>\n",
              "      <th>0</th>\n",
              "      <td>2019-10-08</td>\n",
              "      <td>2019</td>\n",
              "      <td>1</td>\n",
              "      <td>Aplicativo Móvel</td>\n",
              "      <td>Nova</td>\n",
              "      <td>CLARO</td>\n",
              "      <td>Reclamação</td>\n",
              "      <td>Banda Larga Fixa</td>\n",
              "      <td>Cobrança</td>\n",
              "      <td>Cobrança durante a suspensão ou bloqueio do se...</td>\n",
              "      <td>BA</td>\n",
              "      <td>1</td>\n",
              "    </tr>\n",
              "    <tr>\n",
              "      <th>1</th>\n",
              "      <td>2019-10-08</td>\n",
              "      <td>2019</td>\n",
              "      <td>1</td>\n",
              "      <td>Aplicativo Móvel</td>\n",
              "      <td>Nova</td>\n",
              "      <td>CLARO</td>\n",
              "      <td>Reclamação</td>\n",
              "      <td>Celular Pós-Pago</td>\n",
              "      <td>Atendimento</td>\n",
              "      <td>Consumidor não consegue registrar reclamação n...</td>\n",
              "      <td>BA</td>\n",
              "      <td>1</td>\n",
              "    </tr>\n",
              "    <tr>\n",
              "      <th>2</th>\n",
              "      <td>2019-10-08</td>\n",
              "      <td>2019</td>\n",
              "      <td>1</td>\n",
              "      <td>Aplicativo Móvel</td>\n",
              "      <td>Nova</td>\n",
              "      <td>CLARO</td>\n",
              "      <td>Reclamação</td>\n",
              "      <td>Celular Pós-Pago</td>\n",
              "      <td>Atendimento</td>\n",
              "      <td>Indisponibilidade do canal de atendimento</td>\n",
              "      <td>BA</td>\n",
              "      <td>2</td>\n",
              "    </tr>\n",
              "    <tr>\n",
              "      <th>3</th>\n",
              "      <td>2019-10-08</td>\n",
              "      <td>2019</td>\n",
              "      <td>1</td>\n",
              "      <td>Aplicativo Móvel</td>\n",
              "      <td>Nova</td>\n",
              "      <td>CLARO</td>\n",
              "      <td>Reclamação</td>\n",
              "      <td>Celular Pós-Pago</td>\n",
              "      <td>Atendimento</td>\n",
              "      <td>Não retorno de ligação interrompida ao falar c...</td>\n",
              "      <td>BA</td>\n",
              "      <td>1</td>\n",
              "    </tr>\n",
              "    <tr>\n",
              "      <th>4</th>\n",
              "      <td>2019-10-08</td>\n",
              "      <td>2019</td>\n",
              "      <td>1</td>\n",
              "      <td>Aplicativo Móvel</td>\n",
              "      <td>Nova</td>\n",
              "      <td>CLARO</td>\n",
              "      <td>Reclamação</td>\n",
              "      <td>Celular Pós-Pago</td>\n",
              "      <td>Bloqueio ou Suspensão e Desbloqueio</td>\n",
              "      <td>Bloqueio ou suspensão parcial indevido</td>\n",
              "      <td>BA</td>\n",
              "      <td>5</td>\n",
              "    </tr>\n",
              "  </tbody>\n",
              "</table>\n",
              "</div>"
            ],
            "text/plain": [
              "  DataExtracao   Ano  ...  UF QtdeSolic\n",
              "0   2019-10-08  2019  ...  BA         1\n",
              "1   2019-10-08  2019  ...  BA         1\n",
              "2   2019-10-08  2019  ...  BA         2\n",
              "3   2019-10-08  2019  ...  BA         1\n",
              "4   2019-10-08  2019  ...  BA         5\n",
              "\n",
              "[5 rows x 12 columns]"
            ]
          },
          "metadata": {
            "tags": []
          },
          "execution_count": 103
        }
      ]
    },
    {
      "cell_type": "markdown",
      "metadata": {
        "id": "QY6TUlj9Vydc",
        "colab_type": "text"
      },
      "source": [
        "### **Quantos atributos (variáveis) e quantas entradas o *Dataset* possui? Quais os tipos das variáveis?**\n",
        "\n",
        "Vamos prosseguir e identificar a quantidade de entradas que nosso conjunto de dados possui e ver os tipos de cada coluna."
      ]
    },
    {
      "cell_type": "code",
      "metadata": {
        "id": "QFLxPQ-B4so7",
        "colab_type": "code",
        "colab": {
          "base_uri": "https://localhost:8080/",
          "height": 289
        },
        "outputId": "874f41a6-9240-4230-8aba-bbb6d1d77d84"
      },
      "source": [
        "# Identificando o volume de dados do DataFrame\n",
        "print(\"Entradas:\\t {}\".format(df.shape[0]))\n",
        "print(\"Variáveis:\\t {}\".format(df.shape[1]),\"\\n\")\n",
        "\n",
        "#Tipos de dados contidos no dataset\n",
        "display(df.dtypes)"
      ],
      "execution_count": 104,
      "outputs": [
        {
          "output_type": "stream",
          "text": [
            "Entradas:\t 35421\n",
            "Variáveis:\t 12 \n",
            "\n"
          ],
          "name": "stdout"
        },
        {
          "output_type": "display_data",
          "data": {
            "text/plain": [
              "DataExtracao     object\n",
              "Ano               int64\n",
              "Mes               int64\n",
              "CanalEntrada     object\n",
              "Condicao         object\n",
              "GrupoEconNorm    object\n",
              "Tipo             object\n",
              "Servico          object\n",
              "Modalidade       object\n",
              "Motivo           object\n",
              "UF               object\n",
              "QtdeSolic         int64\n",
              "dtype: object"
            ]
          },
          "metadata": {
            "tags": []
          }
        }
      ]
    },
    {
      "cell_type": "markdown",
      "metadata": {
        "id": "_AoabcznbdBY",
        "colab_type": "text"
      },
      "source": [
        "### **Qual a porcentagem de valores ausentes?**\n",
        "\n",
        "A qualidade de um *dataset* está diretamente relacionada à quantidade de valores ausentes. É importante entender logo no início se esses valores nulos são significativos comparados ao total de entradas.\n",
        "\n"
      ]
    },
    {
      "cell_type": "code",
      "metadata": {
        "id": "7-YEpxzd9dqV",
        "colab_type": "code",
        "colab": {
          "base_uri": "https://localhost:8080/",
          "height": 306
        },
        "outputId": "bf8477bc-0a62-4532-dbc4-ba3a9da088c3"
      },
      "source": [
        "#Verificando quantidade de valores ausentes em cada variável do dataset\n",
        "print('Valores ausentes no Dataset:\\n',df.isnull().sum(), '\\n\\n\\n')\n"
      ],
      "execution_count": 105,
      "outputs": [
        {
          "output_type": "stream",
          "text": [
            "Valores ausentes no Dataset:\n",
            " DataExtracao     0\n",
            "Ano              0\n",
            "Mes              0\n",
            "CanalEntrada     0\n",
            "Condicao         0\n",
            "GrupoEconNorm    2\n",
            "Tipo             0\n",
            "Servico          0\n",
            "Modalidade       0\n",
            "Motivo           0\n",
            "UF               0\n",
            "QtdeSolic        0\n",
            "dtype: int64 \n",
            "\n",
            "\n",
            "\n"
          ],
          "name": "stdout"
        }
      ]
    },
    {
      "cell_type": "code",
      "metadata": {
        "id": "skVS2ZYobrnH",
        "colab_type": "code",
        "colab": {
          "base_uri": "https://localhost:8080/",
          "height": 68
        },
        "outputId": "7a25dd4d-87ac-4529-d315-fcbb8966c7aa"
      },
      "source": [
        "#verificando o tamanho da única variável que tem valores ausentes\n",
        "print('Tamanho total da variável \"GrupoEconNorm\": {}'.format(df[\"GrupoEconNorm\"].size))\n",
        "\n",
        "#Verificando percentual de valores ausentes no dataset\n",
        "print('Porcentagem de valores ausentes em GrupoEconNorm: \\n{:.4f}%'.format((df.GrupoEconNorm.isnull().sum()/df[\"GrupoEconNorm\"].size)*100))"
      ],
      "execution_count": 106,
      "outputs": [
        {
          "output_type": "stream",
          "text": [
            "Tamanho total da variável \"GrupoEconNorm\": 35421\n",
            "Porcentagem de valores ausentes em GrupoEconNorm: \n",
            "0.0056%\n"
          ],
          "name": "stdout"
        }
      ]
    },
    {
      "cell_type": "markdown",
      "metadata": {
        "id": "i2NqXVAgPpep",
        "colab_type": "text"
      },
      "source": [
        "Percebe-se com isto que existem apenas dois valores ausentes no dataset.\n",
        "\n",
        "Considerando a pequena quantidade de dados ausentes, e o fato de de que eles representam uma porcentagem ínfima quando relacionada à quantidade total de dados, as entradas que contém os valores ausentes serão excluídas.\n",
        "\n"
      ]
    },
    {
      "cell_type": "code",
      "metadata": {
        "id": "-oZQHlBkSbYa",
        "colab_type": "code",
        "colab": {
          "base_uri": "https://localhost:8080/",
          "height": 136
        },
        "outputId": "1750eb99-7c52-4766-d2b5-adac28a4d420"
      },
      "source": [
        "#excluindo as entradas onde existam valores ausentes em `GrupoEconNorm`\n",
        "print(\"Tamanho antes da remoção das entradas: {} \\n\".format(df.shape))\n",
        "print(\"Removendo entradas...\\n\")\n",
        "df = df.dropna(subset=['GrupoEconNorm'], axis=0)\n",
        "print(\"Tamanho depois da remoção das entradas: {} \\n\\n\".format(df.shape))"
      ],
      "execution_count": 107,
      "outputs": [
        {
          "output_type": "stream",
          "text": [
            "Tamanho antes da remoção das entradas: (35421, 12) \n",
            "\n",
            "Removendo entradas...\n",
            "\n",
            "Tamanho depois da remoção das entradas: (35419, 12) \n",
            "\n",
            "\n"
          ],
          "name": "stdout"
        }
      ]
    },
    {
      "cell_type": "markdown",
      "metadata": {
        "id": "Erg05QRjbhlm",
        "colab_type": "text"
      },
      "source": [
        "### Quais as reclamações mais reincidentes?\n",
        "\n",
        "Já que estamos tratando dos registros de reclamações, denúncias, pedidos de informação e sugestões em relação às operadoras e à Anatel, é imprescindível nesta análise verificar quais são os registros que aparecem mais vezes."
      ]
    },
    {
      "cell_type": "code",
      "metadata": {
        "id": "anRGcUDZJjSg",
        "colab_type": "code",
        "colab": {
          "base_uri": "https://localhost:8080/",
          "height": 187
        },
        "outputId": "8f82a9dc-7128-4451-a4b8-6eca8cd0d7ae"
      },
      "source": [
        "#Contando os motivos de reclamação\n",
        "print('Foram constatados {} motivos diferentes de reclamações.\\n'.format(len(df.Motivo.value_counts())))\n",
        "print('Os cinco motivos mais reincidentes foram:\\n\\n{}'.format(df.Motivo.value_counts().head()))"
      ],
      "execution_count": 108,
      "outputs": [
        {
          "output_type": "stream",
          "text": [
            "Foram constatados 209 motivos diferentes de reclamações.\n",
            "\n",
            "Os cinco motivos mais reincidentes foram:\n",
            "\n",
            "Cobrança em desacordo com o contratado                        1028\n",
            "Cobrança de serviço, produto ou plano não contratado           767\n",
            "Cobrança após cancelamento                                     738\n",
            "Instalação ou habilitação não realizada                        698\n",
            "Cancelamento solicitado por meio de atendente não efetuado     686\n",
            "Name: Motivo, dtype: int64\n"
          ],
          "name": "stdout"
        }
      ]
    },
    {
      "cell_type": "markdown",
      "metadata": {
        "id": "hBeeCDs8srlm",
        "colab_type": "text"
      },
      "source": [
        "### Quantos registros são feitos por usuário?\n",
        "\n",
        "Nesta etapa será verificada a forma como se distribui a quantidade de registros feitos por cada usuário, individualmente. Para isto analisaremos um resumo estatístico da variável `GrupoEconNorm` através do método `describe()` e também será plotado um `boxplot` para tornar mais simples a visualização dos dados. Esta é uma forma que possibilita, também, verificar se existem *Outliers* na variável.\n"
      ]
    },
    {
      "cell_type": "code",
      "metadata": {
        "id": "tcR9MiROKTPY",
        "colab_type": "code",
        "colab": {
          "base_uri": "https://localhost:8080/",
          "height": 297
        },
        "outputId": "b5d6cf1b-eb5a-4243-ee4e-d208d31fe1ed"
      },
      "source": [
        "#Exibindo resumo estatístico por meio do método 'describe()'\n",
        "df[['QtdeSolic']].describe()\n"
      ],
      "execution_count": 109,
      "outputs": [
        {
          "output_type": "execute_result",
          "data": {
            "text/html": [
              "<div>\n",
              "<style scoped>\n",
              "    .dataframe tbody tr th:only-of-type {\n",
              "        vertical-align: middle;\n",
              "    }\n",
              "\n",
              "    .dataframe tbody tr th {\n",
              "        vertical-align: top;\n",
              "    }\n",
              "\n",
              "    .dataframe thead th {\n",
              "        text-align: right;\n",
              "    }\n",
              "</style>\n",
              "<table border=\"1\" class=\"dataframe\">\n",
              "  <thead>\n",
              "    <tr style=\"text-align: right;\">\n",
              "      <th></th>\n",
              "      <th>QtdeSolic</th>\n",
              "    </tr>\n",
              "  </thead>\n",
              "  <tbody>\n",
              "    <tr>\n",
              "      <th>count</th>\n",
              "      <td>35419.000000</td>\n",
              "    </tr>\n",
              "    <tr>\n",
              "      <th>mean</th>\n",
              "      <td>4.089895</td>\n",
              "    </tr>\n",
              "    <tr>\n",
              "      <th>std</th>\n",
              "      <td>12.369323</td>\n",
              "    </tr>\n",
              "    <tr>\n",
              "      <th>min</th>\n",
              "      <td>1.000000</td>\n",
              "    </tr>\n",
              "    <tr>\n",
              "      <th>25%</th>\n",
              "      <td>1.000000</td>\n",
              "    </tr>\n",
              "    <tr>\n",
              "      <th>50%</th>\n",
              "      <td>1.000000</td>\n",
              "    </tr>\n",
              "    <tr>\n",
              "      <th>75%</th>\n",
              "      <td>3.000000</td>\n",
              "    </tr>\n",
              "    <tr>\n",
              "      <th>max</th>\n",
              "      <td>492.000000</td>\n",
              "    </tr>\n",
              "  </tbody>\n",
              "</table>\n",
              "</div>"
            ],
            "text/plain": [
              "          QtdeSolic\n",
              "count  35419.000000\n",
              "mean       4.089895\n",
              "std       12.369323\n",
              "min        1.000000\n",
              "25%        1.000000\n",
              "50%        1.000000\n",
              "75%        3.000000\n",
              "max      492.000000"
            ]
          },
          "metadata": {
            "tags": []
          },
          "execution_count": 109
        }
      ]
    },
    {
      "cell_type": "code",
      "metadata": {
        "id": "EENeBqUEsidV",
        "colab_type": "code",
        "colab": {
          "base_uri": "https://localhost:8080/",
          "height": 220
        },
        "outputId": "25f55e3b-2ed9-4beb-e864-7a9f561c5def"
      },
      "source": [
        "#plotando boxplot\n",
        "df.QtdeSolic.plot(kind='box', vert=False, xlim=(0,10), figsize=(20,3));\n",
        "plt.show()\n",
        "\n",
        "#verificando a quantidade de valores acima de 10 para QtdeSolic\n",
        "print(\"Valores acima de 10 em QtdeSolic:    {} entradas.\".format(len(df[df.QtdeSolic>10])))\n",
        "print(\"Representação em porcentagem:        {:.2f}%\".format((len(df[df.QtdeSolic>10])/df.shape[0])*100))"
      ],
      "execution_count": 110,
      "outputs": [
        {
          "output_type": "display_data",
          "data": {
            "image/png": "[encoded data removed]",
            "text/plain": [
              "<Figure size 1440x216 with 1 Axes>"
            ]
          },
          "metadata": {
            "tags": [],
            "needs_background": "light"
          }
        },
        {
          "output_type": "stream",
          "text": [
            "Valores acima de 10 em QtdeSolic:    2526 entradas.\n",
            "Representação em porcentagem:        7.13%\n"
          ],
          "name": "stdout"
        }
      ]
    },
    {
      "cell_type": "markdown",
      "metadata": {
        "id": "oF46kml6U6km",
        "colab_type": "text"
      },
      "source": [
        "A partir da análise feita acima, nota-se que apesar de o maior número de solicitações feitas por um usuário ser 492:\n",
        "- 75% dos usuários registraram até 3 solicitações;\n",
        "- Apenas 7,13% dos usuários registraram mais de 10 solicitações."
      ]
    },
    {
      "cell_type": "markdown",
      "metadata": {
        "id": "UM9RFMxY_tph",
        "colab_type": "text"
      },
      "source": [
        "### Quais os serviços que mais recebem reclamações?\n",
        "\n",
        "Nesta etapa serão verificados os tipos de serviços que mais motivam reclamações dos usuários à Agência, as operadoras com maiores números de reclamações e \n",
        "\n"
      ]
    },
    {
      "cell_type": "code",
      "metadata": {
        "id": "5Q2wLcNP3Ny9",
        "colab_type": "code",
        "colab": {
          "base_uri": "https://localhost:8080/",
          "height": 204
        },
        "outputId": "3392690b-0b0a-4f7d-ab38-bfde3c391057"
      },
      "source": [
        "# plotar o gráfico de barras indicando em ordem decrescente de recorrência os serviços com mais registros de reclamações.\n",
        "df.Servico.value_counts().head(10)"
      ],
      "execution_count": 111,
      "outputs": [
        {
          "output_type": "execute_result",
          "data": {
            "text/plain": [
              "Celular Pós-Pago                     9787\n",
              "Celular Pré-Pago                     7234\n",
              "Banda Larga Fixa                     6321\n",
              "Telefone Fixo                        6200\n",
              "TV por Assinatura                    5185\n",
              "Serviços da Anatel                    435\n",
              "Móvel Pessoal                          96\n",
              "Radiodifusão (Rádio e TV)              66\n",
              "Serviço de Comunicação Multimídia      33\n",
              "Rádio do Cidadão (PX)                  28\n",
              "Name: Servico, dtype: int64"
            ]
          },
          "metadata": {
            "tags": []
          },
          "execution_count": 111
        }
      ]
    },
    {
      "cell_type": "code",
      "metadata": {
        "id": "H4WlvPrMTOYV",
        "colab_type": "code",
        "colab": {
          "base_uri": "https://localhost:8080/",
          "height": 499
        },
        "outputId": "6589f26a-09fb-4843-ae0e-9554a97bf99c"
      },
      "source": [
        "#plotar o gráfico de barras indicando em ordem decrescente as Reclamações por Operadora\n",
        "df.GrupoEconNorm.value_counts().head(10).plot(kind='bar', figsize=(15,7)); "
      ],
      "execution_count": 112,
      "outputs": [
        {
          "output_type": "display_data",
          "data": {
            "image/png": "[encoded data removed]",
            "text/plain": [
              "<Figure size 1080x504 with 1 Axes>"
            ]
          },
          "metadata": {
            "tags": [],
            "needs_background": "light"
          }
        }
      ]
    },
    {
      "cell_type": "code",
      "metadata": {
        "id": "qSaqTZXmYHh9",
        "colab_type": "code",
        "colab": {
          "base_uri": "https://localhost:8080/",
          "height": 102
        },
        "outputId": "5cc35a3d-a82d-49ca-93d8-6bfde840aeaa"
      },
      "source": [
        "#Porcentagens dos Canais de entrada de registros\n",
        "(df.CanalEntrada.value_counts() / df.shape[0])*100\n"
      ],
      "execution_count": 113,
      "outputs": [
        {
          "output_type": "execute_result",
          "data": {
            "text/plain": [
              "Call Center             43.688416\n",
              "Fale Conosco            32.550326\n",
              "Aplicativo Móvel        22.854965\n",
              "Atendimento Pessoal      0.906293\n",
              "Name: CanalEntrada, dtype: float64"
            ]
          },
          "metadata": {
            "tags": []
          },
          "execution_count": 113
        }
      ]
    },
    {
      "cell_type": "code",
      "metadata": {
        "id": "LLwfOreHeZQg",
        "colab_type": "code",
        "colab": {
          "base_uri": "https://localhost:8080/",
          "height": 123
        },
        "outputId": "06070447-d6b6-4675-c48c-da03472df71a"
      },
      "source": [
        "#extrair os valores em porcentagem da variavel CanalEntrada\n",
        "data= (df.CanalEntrada.value_counts() / df.shape[0])*100\n",
        "#arredondando valores\n",
        "data = data.round()\n",
        "\n",
        "#plotando grafico de waffle demonstrando o percentual de canais de entrada utilizados para registros de reclamações \n",
        "fig = plt.figure(\n",
        "    FigureClass=Waffle,\n",
        "    rows=5,\n",
        "    values=data,\n",
        "    title={'label': 'Demonstração Proporcional dos Canais de Entrada Utilizados', 'loc': 'left'},\n",
        "    colors=[\"#232066\", \"#983D3D\", \"#FFA500\", \"#C0C0C0\"],\n",
        "    icons=['phone', 'envelope', 'mobile-alt', 'user-alt'],\n",
        "    #labels=[\"{0} ({1}%)\".format(k, v) for k, v in data.items()],\n",
        "    labels = ['Telefone', 'Email', 'Aplicativo', 'Pessoal'], \n",
        "    font_size=12,\n",
        "    icon_style='solid',\n",
        "    icon_legend=True,\n",
        "    legend={\n",
        "        'loc': 'upper left', \n",
        "        'bbox_to_anchor': (1, 1)\n",
        "    }\n",
        ")\n",
        "fig.set_facecolor('#EEEEEE')"
      ],
      "execution_count": 114,
      "outputs": [
        {
          "output_type": "display_data",
          "data": {
            "image/png": "[encoded data removed]",
            "text/plain": [
              "<Waffle size 432x288 with 1 Axes>"
            ]
          },
          "metadata": {
            "tags": []
          }
        }
      ]
    }
  ]
}